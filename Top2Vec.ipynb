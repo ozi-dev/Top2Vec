{
  "cells": [
    {
      "cell_type": "code",
      "execution_count": null,
      "metadata": {
        "colab": {
          "base_uri": "https://localhost:8080/"
        },
        "id": "6zUdjaRshtD3",
        "outputId": "8469ad32-bea1-4798-add9-182bf2c11b28"
      },
      "outputs": [],
      "source": [
        "#Author: Oğuzhan Öztürk to get contact: oguzhanozturk0@outlook.com\n",
        "\n",
        "\n",
        "!pip install top2vec"
      ]
    },
    {
      "cell_type": "code",
      "execution_count": null,
      "metadata": {
        "colab": {
          "base_uri": "https://localhost:8080/"
        },
        "id": "W7qHwkAWjksk",
        "outputId": "64d5ce3f-d88d-43d3-9ff1-c090cd330fc1"
      },
      "outputs": [],
      "source": [
        "!pip install top2vec[sentence_encoders]\n",
        "!pip install top2vec[sentence_transformers]\n",
        "!pip install top2vec[indexing]"
      ]
    },
    {
      "cell_type": "code",
      "execution_count": null,
      "metadata": {
        "colab": {
          "base_uri": "https://localhost:8080/"
        },
        "id": "dlYdBBLpmA6q",
        "outputId": "3689f0ec-da1d-419b-a7da-9b265cbf44b6"
      },
      "outputs": [],
      "source": [
        "!pip install numpy==1.23.5"
      ]
    },
    {
      "cell_type": "code",
      "execution_count": null,
      "metadata": {
        "id": "6gjPea55jpH9"
      },
      "outputs": [],
      "source": [
        "import pandas as pd \n",
        "\n",
        "reviews = pd.read_csv('CSV FILE PATH', on_bad_lines='skip')\n"
      ]
    },
    {
      "cell_type": "code",
      "execution_count": null,
      "metadata": {
        "id": "lofOaWSp8Dpt"
      },
      "outputs": [],
      "source": [
        "import nltk\n",
        "from nltk.corpus import stopwords\n",
        "from nltk.stem import WordNetLemmatizer \n",
        "from nltk import word_tokenize,sent_tokenize \n",
        "stop_words=nltk.corpus.stopwords.words('english')\n",
        "new_stopwords = ['movie','movies','film','love','good','like','best','great','ring','shawshank','films','one','ive','watch','thing']\n",
        "stop_words.extend(new_stopwords)\n",
        "\n",
        "def clean_text(review):\n",
        "  le=WordNetLemmatizer()\n",
        "  word_tokens=word_tokenize(review)\n",
        "  tokens=[le.lemmatize(w) for w in word_tokens if w not in stop_words and len(w)>3]\n",
        "  cleaned_text=\" \".join(tokens)\n",
        "  return cleaned_text"
      ]
    },
    {
      "cell_type": "code",
      "execution_count": null,
      "metadata": {
        "id": "XxRaq1IJ7M9T"
      },
      "outputs": [],
      "source": [
        "reviews['review'] = reviews['review'].astype(str)\n"
      ]
    },
    {
      "cell_type": "code",
      "execution_count": null,
      "metadata": {
        "id": "sqSeOejiXkao"
      },
      "outputs": [],
      "source": [
        "reviews['review']=reviews['review'].apply(clean_text)\n"
      ]
    },
    {
      "cell_type": "code",
      "execution_count": null,
      "metadata": {
        "colab": {
          "base_uri": "https://localhost:8080/"
        },
        "id": "E-I5Y73K5GtZ",
        "outputId": "8a5570b6-348e-4271-8a10-ba02ecdeb418"
      },
      "outputs": [],
      "source": [
        "from top2vec import Top2Vec\n",
        "\n",
        "model = Top2Vec(list(reviews['review'].to_numpy()), embedding_model='universal-sentence-encoder-large',use_embedding_model_tokenizer=True,split_documents=True)\n"
      ]
    },
    {
      "cell_type": "code",
      "execution_count": null,
      "metadata": {
        "colab": {
          "base_uri": "https://localhost:8080/"
        },
        "id": "085F9kE3KAOF",
        "outputId": "9f8be35b-fe4c-449b-dd8b-efeeae145f72"
      },
      "outputs": [],
      "source": [
        "model.get_num_topics()"
      ]
    },
    {
      "cell_type": "code",
      "execution_count": null,
      "metadata": {
        "id": "qXDWn9KxKmxm"
      },
      "outputs": [],
      "source": [
        "topic_sizes, topic_nums = model.get_topic_sizes()"
      ]
    },
    {
      "cell_type": "code",
      "execution_count": null,
      "metadata": {
        "colab": {
          "base_uri": "https://localhost:8080/",
          "height": 1000
        },
        "id": "E8_lwKF_9ife",
        "outputId": "ba9d7139-d6fa-498e-dcbd-d0da9b9f9011"
      },
      "outputs": [],
      "source": [
        "\n",
        "for topic in topic_nums:\n",
        "    model.generate_topic_wordcloud(topic)"
      ]
    }
  ],
  "metadata": {
    "colab": {
      "provenance": []
    },
    "kernelspec": {
      "display_name": "Python 3",
      "name": "python3"
    },
    "language_info": {
      "name": "python"
    }
  },
  "nbformat": 4,
  "nbformat_minor": 0
}
